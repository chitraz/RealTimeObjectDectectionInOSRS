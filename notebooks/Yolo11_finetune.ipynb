{
 "cells": [
  {
   "cell_type": "markdown",
   "id": "1996bd52-34af-420e-9012-e84ab1a6c29a",
   "metadata": {},
   "source": [
    "# Fine-tune a CoCo pretrained YOLO11n model on our custom osrs dataset using Ultralytics' trainer "
   ]
  },
  {
   "cell_type": "code",
   "execution_count": null,
   "id": "47ab2508-f25b-49f5-a7a1-049b916899de",
   "metadata": {
    "scrolled": true
   },
   "outputs": [],
   "source": [
    "from ultralytics import YOLO\n",
    "\n",
    "# Load a COCO-pretrained YOLO11n model\n",
    "model = YOLO(\"../saves/pretrain/yolo11n.pt\")\n",
    "\n",
    "# Train the model on our osrs detection dataset for 200 epochs \n",
    "results = model.train(data=\"osrs_data.yaml\", epochs=250, workers=16, batch=128, imgsz=320)"
   ]
  },
  {
   "cell_type": "markdown",
   "id": "aa71b742-4ad7-4b57-98b5-487bc40eac52",
   "metadata": {},
   "source": [
    " ## Load finetuned yolo11n model and test inference on GPU"
   ]
  },
  {
   "cell_type": "code",
   "execution_count": 3,
   "id": "dd5e3930-ebac-4ff7-a372-559aef07371f",
   "metadata": {},
   "outputs": [
    {
     "name": "stdout",
     "output_type": "stream",
     "text": [
      "\n",
      "image 1/1 /home/chitraz/Documents/Projects/RealTimeODinOSRS/dataset/val/images/2922_3287_0_980_154_1945.png: 224x320 3 Cows, 1 Cow_calf, 2 Dairy_cows, 37.5ms\n",
      "Speed: 0.5ms preprocess, 37.5ms inference, 5.3ms postprocess per image at shape (1, 3, 224, 320)\n"
     ]
    }
   ],
   "source": [
    "from ultralytics import YOLO\n",
    "import os\n",
    "\n",
    "# load with our trained weights\n",
    "model = YOLO(\"../saves/yolo11n_osrs_21c.pt\") \n",
    "\n",
    "# test image\n",
    "root_path = os.path.join('/home/chitraz/Documents/Projects/RealTimeODinOSRS', 'dataset/val/images')\n",
    "img_path = root_path + \"/2922_3287_0_980_154_1945.png\" \n",
    "\n",
    "results = model(img_path)\n",
    "\n",
    "img = results[0].show() "
   ]
  },
  {
   "cell_type": "code",
   "execution_count": 4,
   "id": "82359058-f795-4630-bdd5-ec005e49bae9",
   "metadata": {},
   "outputs": [
    {
     "data": {
      "text/plain": [
       "{0: 'Cow',\n",
       " 1: 'Cow_calf',\n",
       " 2: 'Dairy_cow',\n",
       " 3: 'Tree',\n",
       " 4: 'Evergreen_tree',\n",
       " 5: 'Oak_tree',\n",
       " 6: 'Willow_tree',\n",
       " 7: 'Yew_tree',\n",
       " 8: 'Plant',\n",
       " 9: 'Daisies',\n",
       " 10: 'Thistle',\n",
       " 11: 'Rocks',\n",
       " 12: 'Copper_rocks',\n",
       " 13: 'Tin_rocks',\n",
       " 14: 'Silver_rocks',\n",
       " 15: 'Iron_rocks',\n",
       " 16: 'Coal_rocks',\n",
       " 17: 'Gold_rocks',\n",
       " 18: 'Mithril_rocks',\n",
       " 19: 'Adamantite_rocks',\n",
       " 20: 'Clay_rocks'}"
      ]
     },
     "execution_count": 4,
     "metadata": {},
     "output_type": "execute_result"
    }
   ],
   "source": [
    "results[0].names"
   ]
  },
  {
   "cell_type": "code",
   "execution_count": 5,
   "id": "6c1d41c5-ec41-4e6c-a37a-e44e91c705e2",
   "metadata": {},
   "outputs": [
    {
     "data": {
      "text/plain": [
       "tensor([[3.5514e+02, 1.8360e+02, 5.1924e+02, 3.3908e+02],\n",
       "        [4.0945e+01, 9.3993e+01, 1.3631e+02, 3.0038e+02],\n",
       "        [2.7103e+02, 2.1824e+02, 3.4140e+02, 3.3741e+02],\n",
       "        [3.4503e+02, 5.3023e+01, 4.6894e+02, 1.9953e+02],\n",
       "        [9.2160e-02, 0.0000e+00, 1.9007e+01, 9.0353e+01],\n",
       "        [1.0254e-01, 0.0000e+00, 1.9014e+01, 8.8290e+01]], device='cuda:0')"
      ]
     },
     "execution_count": 5,
     "metadata": {},
     "output_type": "execute_result"
    }
   ],
   "source": [
    "results[0].boxes.xyxy"
   ]
  },
  {
   "cell_type": "code",
   "execution_count": 6,
   "id": "0fd4fdbd-b699-434e-8faf-e6b751e38bbb",
   "metadata": {},
   "outputs": [
    {
     "data": {
      "text/plain": [
       "tensor([2., 0., 1., 0., 0., 2.], device='cuda:0')"
      ]
     },
     "execution_count": 6,
     "metadata": {},
     "output_type": "execute_result"
    }
   ],
   "source": [
    "results[0].boxes.cls"
   ]
  },
  {
   "cell_type": "code",
   "execution_count": 7,
   "id": "fca9adc2-1bdf-4acd-a5e0-8e687bb54f93",
   "metadata": {},
   "outputs": [
    {
     "data": {
      "text/plain": [
       "tensor([0.9222, 0.8842, 0.8782, 0.8738, 0.2706, 0.2642], device='cuda:0')"
      ]
     },
     "execution_count": 7,
     "metadata": {},
     "output_type": "execute_result"
    }
   ],
   "source": [
    "results[0].boxes.conf"
   ]
  },
  {
   "cell_type": "code",
   "execution_count": null,
   "id": "26480546-3910-4465-a38d-70d7f09339d4",
   "metadata": {},
   "outputs": [],
   "source": []
  },
  {
   "cell_type": "code",
   "execution_count": null,
   "id": "8f45f43a-2dfe-4b26-9348-24e226a4ee82",
   "metadata": {},
   "outputs": [],
   "source": []
  }
 ],
 "metadata": {
  "kernelspec": {
   "display_name": "osrs",
   "language": "python",
   "name": "osrs"
  },
  "language_info": {
   "codemirror_mode": {
    "name": "ipython",
    "version": 3
   },
   "file_extension": ".py",
   "mimetype": "text/x-python",
   "name": "python",
   "nbconvert_exporter": "python",
   "pygments_lexer": "ipython3",
   "version": "3.9.21"
  }
 },
 "nbformat": 4,
 "nbformat_minor": 5
}
